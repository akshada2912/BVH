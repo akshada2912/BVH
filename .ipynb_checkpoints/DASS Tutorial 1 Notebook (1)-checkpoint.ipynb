{
 "cells": [
  {
   "cell_type": "markdown",
   "metadata": {
    "id": "0uHlcCD_at5X"
   },
   "source": [
    "## Welcome to the first Tutorial session of \"DASS\"\n",
    "\n",
    "We will be playing around with multiple python modules/concepts that are expected to help you enormously in your course further.\n",
    "\n",
    "The Goals:\n",
    "- Have Fun.\n",
    "- Learn exciting new stuff.\n",
    "- Revise some old stuff.\n",
    "\n",
    "(You need to fill in the cells with the code as per the `Tasks` mentioned in the cells. You will need to run the cells to see the output, and submit this notebook with all the outputs, code ans task solutions in the end.)\n",
    "\n",
    "PS.: Please don't use generative AI, as you should know basics of python for debugging the AI generated code as well :)"
   ]
  },
  {
   "cell_type": "markdown",
   "metadata": {
    "id": "vDaK7gaDat5f"
   },
   "source": [
    "### 1. Python"
   ]
  },
  {
   "cell_type": "markdown",
   "metadata": {
    "id": "DFNwzIETat5g"
   },
   "source": [
    "Python is a programming language that has been under development for over 25 years.\n",
    "\n",
    "This tutorial may not cover everything in Python. If you would like, please consider the following resources for more information:\n",
    "\n",
    "**Getting Started with Python**:\n",
    "\n",
    "* https://www.codecademy.com/learn/learn-python-3\n",
    "* http://docs.python-guide.org/en/latest/intro/learning/\n",
    "* https://learnpythonthehardway.org/book/\n",
    "* https://www.codementor.io/learn-python-online\n",
    "* https://websitesetup.org/python-cheat-sheet/\n",
    "\n",
    "**Learning Python in Notebooks**:\n",
    "\n",
    "* http://mbakker7.github.io/exploratory_computing_with_python/\n",
    "\n",
    "This is handy to always have available for reference:\n",
    "\n",
    "**Python Reference**:\n",
    "\n",
    "* https://docs.python.org/3/reference/index.html"
   ]
  },
  {
   "cell_type": "markdown",
   "metadata": {
    "id": "hbylD_E9at5g"
   },
   "source": [
    "### 2. Lets Start with Jupyter Notebook features:"
   ]
  },
  {
   "cell_type": "markdown",
   "metadata": {
    "id": "gkOp4PQsat5g"
   },
   "source": [
    "#### **Why notebooks ?**\n",
    "1. Data Visualisation\n",
    "2. Live Interactions With Code\n",
    "\n",
    "**Much better to experiment with as compared to standard python files**\n",
    "\n",
    "Also helps you provide in-place explanations and cues for the future you.\n",
    "\n",
    "*~~You: Explanation.. Pfff.. Its all in my brain~~*\n",
    "\n",
    "---\n",
    "\n",
    "One Month Later:\n",
    "\n",
    "![Meme]( https://preview.redd.it/i8ztyo3pznk11.jpg?auto=webp&v=enabled&s=71e01e208937f491b6049bac08bad535cdccbbc3 \"Random Image\")\n",
    "\n",
    "Code:\n",
    "```python\n",
    "print(\"In reality images of results would be highly helpful not memes\")\n",
    "```\n",
    "\n",
    "Also I hope this session isn't too $$\\frac{ds_1^3}{dt^3}-y..$$"
   ]
  },
  {
   "cell_type": "markdown",
   "metadata": {
    "id": "6akBHbkyat5h"
   },
   "source": [
    "**In adition to all of the cool Markdown features above, surprisingly we can also code \\(Python) and view results in Jupyter Notebooks.**\n",
    "\n",
    "---\n",
    "\n",
    "Some very basic shortcuts to get you started:\n",
    "1. `Shift + Enter` to run the cell and move to the next one.\n",
    "2. `Ctrl + Enter` to run the cell and stay on the same cell.\n",
    "3. `Alt + Enter` to run the cell and insert a new cell below.\n",
    "4. `Esc` to enter command mode.\n",
    "5. `Enter` to enter edit mode.\n",
    "\n",
    "---\n",
    "\n",
    "**So lets begin with learning/brushing up your basic Python skills..**"
   ]
  },
  {
   "cell_type": "markdown",
   "metadata": {
    "id": "X4VJ4zp-at5h"
   },
   "source": [
    "### 3. Python Basics"
   ]
  },
  {
   "cell_type": "markdown",
   "metadata": {
    "id": "o0Inh3vVat5h"
   },
   "source": [
    "#### Commenting\n",
    "\n",
    "**Lets start with the most essential skill of commenting.**\n",
    "\n",
    "`Task` - Create single line comments and multi-line comments in the below code cell."
   ]
  },
  {
   "cell_type": "code",
   "execution_count": 2,
   "metadata": {
    "id": "qAjohw7rat5j"
   },
   "outputs": [
    {
     "data": {
      "text/plain": [
       "'\\nhi\\n'"
      ]
     },
     "execution_count": 2,
     "metadata": {},
     "output_type": "execute_result"
    }
   ],
   "source": [
    "#hi\n",
    "'''\n",
    "hi\n",
    "'''"
   ]
  },
  {
   "cell_type": "markdown",
   "metadata": {
    "id": "QKBVCEchat5k"
   },
   "source": [
    "#### Statements & Syntax\n",
    "\n",
    "Python is an [imperative language](https://en.wikipedia.org/wiki/Imperative_programming) based on [statements](https://en.wikipedia.org/wiki/Statement_(computer_science)). That is, programs in Python consists of lines composed of statements. A statement can be:\n",
    "\n",
    "* a single expression\n",
    "* an assignment\n",
    "* a function call\n",
    "* a function definition\n",
    "* a statement; statement\n",
    "\n",
    "Basic Python Syntax:\n",
    "```python\n",
    "print(\"Hello World\")\n",
    "```\n",
    "where `print(\"Hello World\")` is a statement.\n",
    "\n",
    "----\n",
    "\n",
    "#### Python Indentation\n",
    "\n",
    "Indentation refers to the spaces at the beginning of a code line.\n",
    "\n",
    "Where in other programming languages the indentation in code is for readability only, the indentation in Python is very important. Python uses indentation to indicate a block of code.\n",
    "\n",
    "```python\n",
    "if 10 > 5:\n",
    "  print(\"Ten is greater than five!\")\n",
    "```\n",
    "\n",
    "Incorrect indentation will result in an `IndentationError`.\n",
    "```python\n",
    "if 10 > 5:\n",
    "print(\"Ten is greater than five!\")\n",
    "```\n",
    "will result in an `IndentationError`.\n",
    "\n",
    "`Task` - Correct the indentation in the below code cell to PEP8 standard of indentation. (More about PEP8 later)"
   ]
  },
  {
   "cell_type": "code",
   "execution_count": 1,
   "metadata": {
    "id": "Bd4cSZmDat5m"
   },
   "outputs": [
    {
     "name": "stdout",
     "output_type": "stream",
     "text": [
      "Five is greater than two!\n",
      "Five is greater than two!\n"
     ]
    }
   ],
   "source": [
    "if 5 > 2:\n",
    "        print(\"Five is greater than two!\")\n",
    "        print(\"Five is greater than two!\")"
   ]
  },
  {
   "cell_type": "markdown",
   "metadata": {
    "id": "wrOoeJQHat5o"
   },
   "source": [
    "#### Keywords, Datatypes & Variables\n",
    "\n",
    "**Keywords** are the reserved words in Python. We cannot use a keyword as a variable name, function name or any other identifier. They are used to define the syntax and structure of the Python language. In Python, keywords are case sensitive.\n",
    "\n",
    "All the keywords except `True`, `False` and `None` are in lowercase and they must be written as it is. You can find the list of all python keywords at [https://docs.python.org/3/reference/lexical_analysis.html#keywords](https://docs.python.org/3/reference/lexical_analysis.html#keywords)\n",
    "\n",
    "**Variables** are containers for storing data values. Unlike other programming languages, Python has no command for declaring a variable. A variable is created the moment you first assign a value to it.\n",
    "\n",
    "> Variable names can be a group of both letters and digits, but they have to begin with a letter or an underscore character. You cannot start a variable name with a digit. You cannot use special symbols like `!`, `@`, `#`, `$`, `%` etc. in a variable name. Variable names cannot be keywords. They cannot contain whitespaces. Variable names are case sensitive.\n",
    "\n",
    "```python\n",
    "x = 5\n",
    "y = \"Hello, World!\"\n",
    "```\n",
    "\n",
    "**Datatypes** are the classification or categorization of data items. It represents the kind of value that tells what operations can be performed on a particular data. Since everything is an object in Python programming, data types are actually classes and variables are instance (object) of these classes. (More about classes and objects later)\n",
    "\n",
    "Unline other programming languages, Python selects the datatype automatically based on the value assigned to the variable.\n",
    "\n",
    "```python\n",
    "x = 5\n",
    "print(x, \"is of type\", type(x))\n",
    "\n",
    "x = 2.0\n",
    "print(x, \"is of type\", type(x))\n",
    "\n",
    "x = 1+2j\n",
    "print(x, \"is complex number?\", isinstance(1+2j,complex))\n",
    "```\n",
    "\n",
    "`Task` - Create a variable `name` and assign it your name. Print the variable, its type and check if it is a string."
   ]
  },
  {
   "cell_type": "code",
   "execution_count": 2,
   "metadata": {
    "id": "92WAI0ECat5o"
   },
   "outputs": [
    {
     "name": "stdout",
     "output_type": "stream",
     "text": [
      "hi <class 'str'>\n"
     ]
    }
   ],
   "source": [
    "name=\"hi\"\n",
    "print(name,type(name))"
   ]
  },
  {
   "cell_type": "markdown",
   "metadata": {
    "id": "DS_Gx7Kgat5p"
   },
   "source": [
    "`Task`\n",
    "\n",
    "**Do the following:**\n",
    "\n",
    "1. Initialise an integer, float, a boolen value and a string.\n",
    "2. Initialise another string (take input from user) and perform string concatenation with the first string.\n",
    "3. Placeholder for string manipulation. (Formatted String Literals)\n",
    "4. Printing the variables. Use the `end` and `sep` parameters of the `print()` function.\n",
    "5. Create a multiline string and print it."
   ]
  },
  {
   "cell_type": "code",
   "execution_count": 60,
   "metadata": {
    "id": "gYJ3j--Uat5p"
   },
   "outputs": [
    {
     "name": "stdout",
     "output_type": "stream",
     "text": [
      "enter:  hi\n"
     ]
    },
    {
     "name": "stdout",
     "output_type": "stream",
     "text": [
      "nhi\n",
      "Hello, my name is Ak, I am 20 years old\n",
      "5, 5.0, True, nhi\n",
      "n\n",
      "n\n"
     ]
    }
   ],
   "source": [
    "x=5\n",
    "y=5.0\n",
    "z=True\n",
    "n=\"n\"\n",
    "m=input(\"enter: \")\n",
    "print(n+m)\n",
    "name = \"Ak\"\n",
    "age = 20\n",
    "\n",
    "# Using f-strings for string manipulation\n",
    "formatted_string = f\"Hello, my name is {name}, I am {age} years old\"\n",
    "print(formatted_string)\n",
    "print(x,y,z,n+m,sep=\", \",end=\"\\n\")\n",
    "print(n+'\\n'+n)"
   ]
  },
  {
   "cell_type": "markdown",
   "metadata": {
    "id": "F1Wn2tQYat5p"
   },
   "source": [
    "#### PEP8\n",
    "\n",
    "PEP stands for Python Enhancement Proposal. It is a set of rules that specify how to format Python code for maximum readability. PEP8 is the latest standard for formatting Python code. You can find the complete PEP8 style guide at [https://www.python.org/dev/peps/pep-0008/](https://www.python.org/dev/peps/pep-0008/)\n",
    "\n",
    "Some of the most important rules are:\n",
    "1. Use 4 spaces for indentation.\n",
    "2. Limit all lines to a maximum of 79 characters.\n",
    "3. Variables and functions should be in lowercase with underscores. (`snake_case`)\n",
    "4. Class names should be in PascalCase. (`PascalCase`)\n",
    "5. Use spaces around operators and after commas, but not directly inside bracketing constructs: `a = f(1, 2) + g(3, 4)`."
   ]
  },
  {
   "cell_type": "markdown",
   "metadata": {
    "id": "m9Bh-LBAat5q"
   },
   "source": [
    "#### Error Handling\n",
    "\n",
    "<b>How to Read Python Error Messages</b>\n",
    "\n",
    "<tt>TypeError: Can't convert 'int' object to str implicitly</tt>\n",
    "</p>\n",
    "\n",
    "<p>Above the error message is the \"traceback\" also called the \"call stack\". This is a representation of the sequence of procedure calls that lead to the error. If the procedure call originated from code from a file, the filename would be listed after the word \"File\" on each line. If the procedure call originated from a notebook cell, then the word \"ipython-input-#-HEX\".\n",
    "</p>\n",
    "\n",
    "**Try-Except Block** is used for exception handling in Python. It allows us to tell the program to try a block of code and if it doesn't work, what code to run instead of throwing an error.\n",
    "\n",
    "```python\n",
    "try:\n",
    "  print(x)\n",
    "except:\n",
    "  print(\"An exception occurred\")\n",
    "```\n",
    "\n",
    "`Task` - Write a program to take input from the user and print the square of the number. If the input is not a number, print an error message. Use `finally` to print a message at the end of the program. (Use `try-except`)"
   ]
  },
  {
   "cell_type": "code",
   "execution_count": 5,
   "metadata": {
    "id": "VmhHXorpat5q"
   },
   "outputs": [
    {
     "name": "stdout",
     "output_type": "stream",
     "text": [
      "enter:  f\n"
     ]
    },
    {
     "name": "stdout",
     "output_type": "stream",
     "text": [
      "err\n"
     ]
    }
   ],
   "source": [
    "inp=input(\"enter: \")\n",
    "try:\n",
    "    fin=float(inp)\n",
    "    print(fin**2)\n",
    "except:\n",
    "    print(\"err\")"
   ]
  },
  {
   "cell_type": "markdown",
   "metadata": {
    "id": "6IGQE-dIat5q"
   },
   "source": [
    "#### Lists\n",
    "\n",
    "`Task` -> Play with `lists`:\n",
    "1. Initialise a list with 5 elements.\n",
    "2. Add elements to a list (try using various methods).\n",
    "3. Add a list to another list.\n",
    "4. Access an element of the list.\n",
    "5. Perform few range tricks (using slices) - print alternate elements, get list in reverse order, print elements from index 2 to 4, print last 3 elements, etc.\n",
    "6. Delete an element from the list."
   ]
  },
  {
   "cell_type": "code",
   "execution_count": 6,
   "metadata": {
    "id": "Wfy8u4XIat5q"
   },
   "outputs": [
    {
     "name": "stdout",
     "output_type": "stream",
     "text": [
      "1\n",
      "[1, 3, 5, 7, 9]\n",
      "[9, 8, 7, 6, 5, 4, 3, 2, 1]\n",
      "[3, 4, 5]\n",
      "[7, 8, 9]\n"
     ]
    }
   ],
   "source": [
    "lst=[1,2,3,4,5]\n",
    "lst.append(6)\n",
    "lst.extend([7,8,9])\n",
    "print(lst[0])\n",
    "print(lst[::2])\n",
    "print(lst[::-1])\n",
    "print(lst[2:5])\n",
    "print(lst[-3:])\n",
    "lst.remove(9)"
   ]
  },
  {
   "cell_type": "markdown",
   "metadata": {
    "id": "v4A6EKHEat5q"
   },
   "source": [
    "#### Tuples\n",
    "\n",
    "`Task` -> Play with `Tuples`: \\\n",
    "Note that Tuples are immutable i.e once initialised it can be reassigned but not changed.\n",
    "1. Initialise a tuple\n",
    "2. Access an element of the tuple\n",
    "3. Length of Tuple (Same for length of List)\n",
    "4. Try to change an element of the tuple (Use appropriate error handling, as needed)\n",
    "5. Get the length of the tuple.\n",
    "\n",
    "Iteration tricks are the same as seen in lists. (Try them out)"
   ]
  },
  {
   "cell_type": "code",
   "execution_count": 8,
   "metadata": {
    "id": "5g3xXDWoat5r"
   },
   "outputs": [
    {
     "name": "stdout",
     "output_type": "stream",
     "text": [
      "1 2\n",
      "err\n"
     ]
    }
   ],
   "source": [
    "tup=(1,2)\n",
    "print(tup[0],len(tup))\n",
    "try:\n",
    "    tup[0]=3\n",
    "except:\n",
    "    print(\"err\")\n"
   ]
  },
  {
   "cell_type": "markdown",
   "metadata": {
    "id": "hsZvhAynat5r"
   },
   "source": [
    "#### Dictionary\n",
    "\n",
    "`Task` -> Play with `Dicts`: \\\n",
    "(Dictionaries are maps that have immutable type variables as keys)\n",
    "\n",
    "1. Initialise a dictionary\n",
    "2. Look up the value for a key\n",
    "3. Check if key is in dictionary\n",
    "4. List all keys of a dictionary\n",
    "5. List all values of a dictionary\n",
    "6. Try assigning a list as a key. Try the same with a tuple. (Use appropriate error handling, as needed)\n",
    "7. Try assigning a list as a value. Try the same with a tuple. (Use appropriate error handling, as needed)\n",
    "8. Remove an item from dictionary"
   ]
  },
  {
   "cell_type": "code",
   "execution_count": 24,
   "metadata": {
    "id": "EnpXpkNXat5r"
   },
   "outputs": [
    {
     "name": "stdout",
     "output_type": "stream",
     "text": [
      "a\n",
      "yes\n",
      "1\n",
      "2\n",
      "a\n",
      "b\n",
      "err\n"
     ]
    }
   ],
   "source": [
    "dictt={1:\"a\",2:\"b\"}\n",
    "print(dictt[1])\n",
    "if 1 in dictt.keys():\n",
    "    print(\"yes\")\n",
    "for i in dictt.keys():\n",
    "    print(i)\n",
    "for i in dictt.values():\n",
    "    print(i)\n",
    "try:\n",
    "    dictt[[4,4]]=\"d\"\n",
    "except:\n",
    "    print(\"err\")\n",
    "dictt[3]=[\"c\",\"C\"]\n",
    "del dictt[3]\n",
    "\n"
   ]
  },
  {
   "cell_type": "markdown",
   "metadata": {
    "id": "O43dMgqkat5r"
   },
   "source": [
    "#### Control Flows and Iterables\n",
    "\n",
    "`Task` -> Play with `Control Flows` and `Iterables`:\n",
    "1. Create an if statement\n",
    "2. Print numbers from 3 to 10 without an explicit for in steps of 2, using\n",
    "    1. for loop\n",
    "    1. while loop\n",
    "    1. do-while loop\n",
    "3. Create a for loop with an else block\n",
    "4. Demonstrate the use of `break` and `continue` in a loop\n",
    "5. Use `enumerate` to print the index and value of each element of a list\n",
    "6. Use `zip` to iterate over two lists at the same time"
   ]
  },
  {
   "cell_type": "code",
   "execution_count": 31,
   "metadata": {
    "id": "W20TCSNrat5s"
   },
   "outputs": [
    {
     "name": "stdout",
     "output_type": "stream",
     "text": [
      "yay\n",
      "3\n",
      "5\n",
      "7\n",
      "9\n",
      "3\n",
      "5\n",
      "7\n",
      "9\n",
      "bye\n",
      "1\n",
      "3\n",
      "0 1\n",
      "1 2\n",
      "2 3\n",
      "{(2, 5), (1, 4), (3, 6)}\n"
     ]
    }
   ],
   "source": [
    "if 2<5:\n",
    "    print(\"yay\")\n",
    "for i in range(3,11,2):\n",
    "    print(i)\n",
    "i=3\n",
    "while 1:\n",
    "    print(i)\n",
    "    i+=2\n",
    "    if i>10:\n",
    "        break\n",
    "i=3\n",
    "\n",
    "for i in range(3,2):\n",
    "    print(\"hi\")\n",
    "else:\n",
    "    print(\"bye\")\n",
    "for i in range(0,4):\n",
    "    if i%2==0:\n",
    "        continue\n",
    "    print(i)\n",
    "\n",
    "lst=[1,2,3]\n",
    "for i,el in enumerate(lst):\n",
    "    print(i,el)\n",
    "\n",
    "lst2=[4,5,6]\n",
    "lst2=zip(lst,lst2)\n",
    "print(set((lst2)))\n"
   ]
  },
  {
   "cell_type": "markdown",
   "metadata": {
    "id": "112NsUyvat5w"
   },
   "source": [
    "`Task` - Make a list of squares of numbers from 2 to 10 using list comprehension."
   ]
  },
  {
   "cell_type": "code",
   "execution_count": 26,
   "metadata": {
    "id": "N_7nqKYWat5w"
   },
   "outputs": [
    {
     "name": "stdout",
     "output_type": "stream",
     "text": [
      "[4, 9, 16, 25, 36, 49, 64, 81, 100]\n"
     ]
    }
   ],
   "source": [
    "lst=[i*i for i in range(2,11)]\n",
    "print(lst)"
   ]
  },
  {
   "cell_type": "markdown",
   "metadata": {
    "id": "H3tUPmIQat5x"
   },
   "source": [
    "#### Functions\n",
    "\n",
    "`Task` -> Play with `Functions`:\n",
    "1. Define a function that takes two arguments and returns their sum. (Use appropriate error handling, as needed)\n",
    "2. Define a function that takes a variable number of arguments and returns their sum. (Use appropriate error handling, as needed)\n",
    "3. Write a `lambda function` that takes two arguments and returns their sum.\n",
    "\n",
    "Call the functions with appropriate arguments, to test them. (Follow PEP8 guidelines for naming functions)"
   ]
  },
  {
   "cell_type": "code",
   "execution_count": 41,
   "metadata": {
    "id": "RpcpCNQGat5x"
   },
   "outputs": [
    {
     "name": "stdout",
     "output_type": "stream",
     "text": [
      "8 8 8\n"
     ]
    }
   ],
   "source": [
    "def add_1(x,y):\n",
    "    return x+y\n",
    "def sum_1(*args):\n",
    "    return sum(i for i in args)\n",
    "add_lambda=lambda x,y:x+y\n",
    "\n",
    "print(add_1(3,5),sum_1(3,5), add_lambda(3,5))\n"
   ]
  },
  {
   "cell_type": "markdown",
   "metadata": {
    "id": "mxf-YKDMat5x"
   },
   "source": [
    "#### Scope\n",
    "\n",
    "Python follows the `LEGB Rule` (More [here](https://realpython.com/python-scope-legb-rule/)):\n",
    "\n",
    "* L, Local: Names assigned in any way within a function (def or lambda)), and not declared global in that function.\n",
    "* E, Enclosing function locals: Name in the local scope of any and all enclosing functions (def or lambda), from inner to outer.\n",
    "* G, Global (module): Names assigned at the top-level of a module file, or declared global in a def within the file.\n",
    "* B, Built-in (Python): Names preassigned in the built-in names module : open, range, SyntaxError,..."
   ]
  },
  {
   "cell_type": "markdown",
   "metadata": {
    "id": "ZMSoGNS4at5x"
   },
   "source": [
    "`Task` - Create a variable `x` in the global scope and print it. Create a function that creates a variable `x` in the local scope and print it. Print `x` again in the global scope. (Use appropriate error handling, as needed)"
   ]
  },
  {
   "cell_type": "code",
   "execution_count": 42,
   "metadata": {
    "id": "yRnELJVXat5x"
   },
   "outputs": [
    {
     "name": "stdout",
     "output_type": "stream",
     "text": [
      "Global x: 10\n",
      "Local x: 5\n"
     ]
    }
   ],
   "source": [
    "x = 10\n",
    "print(\"Global x:\", x)\n",
    "\n",
    "def local_scope_function():\n",
    "    x = 5\n",
    "    print(\"Local x:\", x)\n",
    "\n",
    "    global global_x\n",
    "    global_x = 15\n",
    "\n",
    "# Call the function\n",
    "local_scope_function()"
   ]
  },
  {
   "cell_type": "markdown",
   "metadata": {
    "id": "uf9qSs6oat5y"
   },
   "source": [
    "## Predict the output of the following code cell (Without running it):\n",
    "\n",
    "```python\n",
    "x = 3\n",
    "def foo():\n",
    "    x=4\n",
    "    def bar():\n",
    "        print(x)\n",
    "    bar()\n",
    "    x=5\n",
    "    bar()\n",
    "foo()\n",
    "```\n",
    "\n",
    "Answer -4\n",
    "        5"
   ]
  },
  {
   "cell_type": "markdown",
   "metadata": {
    "id": "25ALei1ab-KZ"
   },
   "source": [
    "#### Regex\n",
    "\n",
    "`Task` -> Play with `Regex`:\n",
    "1. Import the `re` module.\n",
    "2. Create a regex to search a string to see if it starts with \"The\" and ends with \"DASS\".\n",
    "3. Create a regex to search a string to see if it contains only lower case letters.\n",
    "4. Replace every white-space character with the number 9\n",
    "5. Split a string at every white-space character"
   ]
  },
  {
   "cell_type": "code",
   "execution_count": 44,
   "metadata": {
    "id": "i8ns4E5Wce7k"
   },
   "outputs": [
    {
     "name": "stdout",
     "output_type": "stream",
     "text": [
      "Task 1: String starts with 'The' and ends with 'DASS'\n",
      "Task 2: String contains only lowercase letters\n",
      "Task 3: Replace9white9spaces\n",
      "Task 4: ['Split', 'this', 'string']\n"
     ]
    }
   ],
   "source": [
    "import re\n",
    "\n",
    "pattern_start_end = re.compile(r'^The.*DASS$')\n",
    "\n",
    "pattern_lowercase = re.compile(r'^[a-z]+$')\n",
    "\n",
    "pattern_whitespace = re.compile(r'\\s')\n",
    "replacement = '9'\n",
    "\n",
    "pattern_split = re.compile(r'\\s+')\n",
    "\n",
    "# Test Strings\n",
    "test_string1 = \"The hi hi DASS\"\n",
    "test_string2 = \"lowercase\"\n",
    "test_string3 = \"Replace white spaces\"\n",
    "test_string4 = \"Split this string\"\n",
    "\n",
    "# Task 1\n",
    "if pattern_start_end.match(test_string1):\n",
    "    print(\"Task 1: String starts with 'The' and ends with 'DASS'\")\n",
    "\n",
    "# Task 2\n",
    "if pattern_lowercase.match(test_string2):\n",
    "    print(\"Task 2: String contains only lowercase letters\")\n",
    "\n",
    "# Task 3\n",
    "result_string3 = pattern_whitespace.sub(replacement, test_string3)\n",
    "print(\"Task 3:\", result_string3)\n",
    "\n",
    "# Task 4\n",
    "result_list4 = pattern_split.split(test_string4)\n",
    "print(\"Task 4:\", result_list4)\n",
    "\n"
   ]
  },
  {
   "cell_type": "markdown",
   "metadata": {
    "id": "vxQ3RNxtUvsO"
   },
   "source": [
    "#### Some exercise 🏋️‍♂️"
   ]
  },
  {
   "cell_type": "markdown",
   "metadata": {
    "id": "fY8ECJSlat5y"
   },
   "source": [
    "`Task` - Implement `Stack`, `Queue` and `Deque` using lists. (Use appropriate error handling, as needed)"
   ]
  },
  {
   "cell_type": "code",
   "execution_count": null,
   "metadata": {
    "id": "V9zhb8eSat5y"
   },
   "outputs": [],
   "source": [
    "def stack_push(stack,x):\n",
    "    stack.append(x)\n",
    "def stack_pop(stack):\n",
    "    return(stack.pop())\n",
    "def q_push(q,x):\n",
    "    q.append(x)\n",
    "def q_pop(q):\n",
    "    if len(q)>=1:\n",
    "        a=q[0]\n",
    "        q.remove(q[0])\n",
    "        return a\n",
    "def d_pushleft(d,x):\n",
    "    d2=[x]\n",
    "    for i in d:\n",
    "        d2.append(i)\n",
    "    return d2\n",
    "def d_pushright(d,x):\n",
    "    d.append(x)\n",
    "def d_popleft(d):\n",
    "    if len(d)>=1:\n",
    "        a=d[0]\n",
    "        d.remove(d[0])\n",
    "        return a\n",
    "def d_popright(d):\n",
    "    return d.pop()\n",
    "\n",
    "stck=[1]\n",
    "q=[1]\n",
    "d=[1]\n",
    "stack_push(stck,2)\n",
    "print(stck)\n",
    "stack_pop(stck)\n",
    "print(stck)\n",
    "\n",
    "q_push(q,2)\n",
    "print(q)\n",
    "q_pop(q)\n",
    "print(q)\n",
    "\n",
    "d_pushright(d,2)\n",
    "print(d)\n",
    "d=d_pushleft(d,0)\n",
    "print(d)\n",
    "d_popright(d)\n",
    "print(d)\n",
    "d_popleft(d)\n",
    "print(d)\n",
    "\n",
    "    \n",
    "    \n",
    "        "
   ]
  },
  {
   "cell_type": "markdown",
   "metadata": {
    "id": "NiC4iUIUat5y"
   },
   "source": [
    "`Task` \\\n",
    "You are tasked with creating a program that analyzes student scores. Each student is represented as a dictionary with the following key - 'name' and value - 'scores'. The 'scores' is a list of integers representing the student's scores in different subjects.\n",
    "\n",
    "Write a Python program that does the following:\n",
    "\n",
    "- Define a function called calculate_average that takes a list of student dictionaries as input and returns a new dictionary where the keys are the student names, and the values are the average scores of each student.\n",
    "\n",
    "- Implement a function called find_highest_scorer that returns two things and takes the list of student dictionaries. It returns the name of the student with the highest average score. It should also return an ordered list of student names, who scored the highest in each corresponding subject (like first name corresponds to the student scoring the highest in the first subject)\n",
    "\n",
    "- In the main part of the program, take user input to enter information for several students. Use the functions defined above to calculate and display the average scores for each student and identify the student with the highest average score & highest score in individual subjects.\n",
    "\n",
    "- Do appropriate error handling"
   ]
  },
  {
   "cell_type": "code",
   "execution_count": null,
   "metadata": {},
   "outputs": [
    {
     "ename": "",
     "evalue": "",
     "output_type": "error",
     "traceback": [
      "\u001b[1;31mRunning cells with 'c:\\msys64\\mingw64\\bin\\python.exe' requires the ipykernel package.\n",
      "\u001b[1;31mRun the following command to install 'ipykernel' into the Python environment. \n",
      "\u001b[1;31mCommand: 'c:/msys64/mingw64/bin/python.exe -m pip install ipykernel -U --user --force-reinstall'"
     ]
    }
   ],
   "source": [
    "def calculate_average(dict_list):\n",
    "    dict2 = {}\n",
    "    for i in dict_list:\n",
    "        name = \"\"\n",
    "        for v in i.keys():\n",
    "            name = v\n",
    "        sum1 = 0\n",
    "        count = 0\n",
    "        for v in i.values():\n",
    "            sum1 += sum(v)\n",
    "            count += 1\n",
    "        dict2[name] = sum1 / count\n",
    "    return dict2\n",
    "\n",
    "def find_highest_scorer(dict_list, max_size):\n",
    "    name = \"\"\n",
    "    dict2 = calculate_average(dict_list)\n",
    "    max_val = 0\n",
    "    for i in dict2:\n",
    "        if dict2[i] > max_val:\n",
    "            max_val = dict2[i]\n",
    "    for i in dict2:\n",
    "        if dict2[i] == max_val:\n",
    "            name = i\n",
    "            break\n",
    "    i = 0\n",
    "    lst2 = []\n",
    "    while i < max_size:\n",
    "        max_val = 0\n",
    "        for d in dict_list:\n",
    "            v = d.values()\n",
    "            if v[i] > max_val:\n",
    "                max_val = v[i]\n",
    "        for d in dict_list:\n",
    "            v = d.values()\n",
    "            if v[i] == max_val:\n",
    "                for f in d.keys():\n",
    "                    lst2.append(f)\n",
    "                break\n",
    "        i += 1\n",
    "    print(lst2)\n",
    "    return name\n",
    "\n",
    "lst = []\n",
    "dict_ = {}\n",
    "name1 = input(\"name: \")\n",
    "sub1 = int(input(\"sub1: \"))\n",
    "sub2 = int(input(\"sub2: \"))\n",
    "sub3 = int(input(\"sub3: \"))\n",
    "dict_[name1] = [sub1, sub2, sub3]\n",
    "lst.append(dict_)\n",
    "\n",
    "dict_ = {}\n",
    "name1 = input(\"name: \")\n",
    "sub1 = int(input(\"sub1: \"))\n",
    "sub2 = int(input(\"sub2: \"))\n",
    "sub3 = int(input(\"sub3: \"))\n",
    "dict_[name1] = [sub1, sub2, sub3]\n",
    "lst.append(dict_)\n",
    "\n",
    "dict_ = {}\n",
    "name1 = input(\"name: \")\n",
    "sub1 = int(input(\"sub1: \"))\n",
    "sub2 = int(input(\"sub2: \"))\n",
    "sub3 = int(input(\"sub3: \"))\n",
    "dict_[name1] = [sub1, sub2, sub3]\n",
    "lst.append(dict_)\n",
    "\n",
    "print(calculate_average(lst))\n",
    "a = find_highest_scorer(lst, 3)\n"
   ]
  },
  {
   "cell_type": "markdown",
   "metadata": {
    "id": "i-XFrqWKat5y"
   },
   "source": [
    "### 4. Classes, Objects & OOPs\n",
    "\n",
    "(If you don't know about these concepts, don't worry - This will be covered in the tutorial)"
   ]
  },
  {
   "cell_type": "markdown",
   "metadata": {
    "id": "qHf3gsOPat5z"
   },
   "source": [
    "**Classes** provide a means of bundling data and functionality together. Creating a new class creates a new type of object, allowing new instances of that type to be made. Each class instance can have attributes attached to it for maintaining its state. Class instances can also have methods (defined by its class) for modifying its state.\n",
    "\n",
    "**Objects** are an encapsulation of variables and functions into a single entity. Objects get their variables and functions from classes. Classes are essentially a template to create your objects.\n",
    "\n",
    "#### Class Definition Syntax\n",
    "\n",
    "The simplest form of class definition looks like this:\n",
    "\n",
    "```python\n",
    "class ClassName:\n",
    "    <statement-1>\n",
    "    .\n",
    "    .\n",
    "    .\n",
    "    <statement-N>\n",
    "```\n",
    "\n",
    "#### Class Objects\n",
    "\n",
    "Syntax to create an object of the above class:\n",
    "\n",
    "```python\n",
    "instance = ClassName()\n",
    "```\n",
    "Example:\n",
    "```python\n",
    "class Person:\n",
    "    def __init__(self, name, age):\n",
    "        self.name = name\n",
    "        self.age = age\n",
    "\n",
    "    def greet(self):\n",
    "        print(f\"Hello, my name is {self.name} and I am {self.age} years old.\")\n",
    "\n",
    "# Usage example\n",
    "person = Person(\"John\", 25)\n",
    "person.greet()\n",
    "```"
   ]
  },
  {
   "cell_type": "markdown",
   "metadata": {
    "id": "Uk0REIvzv-zO"
   },
   "source": [
    "`Task`: Figure out where are all the following concepts used in the given code below:\\\n",
    "(Try to cover all of the occurences)\n",
    "1. Abstraction\n",
    "2. Encapsulation\n",
    "3. Inheritance\n",
    "4. Polymorphism\n",
    "5. Method Overriding"
   ]
  },
  {
   "cell_type": "code",
   "execution_count": null,
   "metadata": {
    "id": "INxwVaygbPNa"
   },
   "outputs": [],
   "source": [
    "from abc import ABC, abstractmethod\n",
    "\n",
    "class Shape(ABC):\n",
    "    @abstractmethod\n",
    "    def area(self):\n",
    "        pass\n",
    "\n",
    "class Employee:\n",
    "    def __init__(self, name, salary):\n",
    "        self._name = name\n",
    "        self.__salary = salary\n",
    "\n",
    "    def get_name(self):\n",
    "        return self._name\n",
    "\n",
    "    def set_salary(self, new_salary):\n",
    "        if new_salary > 0:\n",
    "            self.__salary = new_salary\n",
    "\n",
    "    def get_salary(self):\n",
    "        return self.__salary\n",
    "\n",
    "class Manager(Employee):\n",
    "    def __init__(self, name, salary, bonus):\n",
    "        super().__init__(name, salary)\n",
    "        self.__bonus = bonus\n",
    "\n",
    "    def set_bonus(self, new_bonus):\n",
    "        if new_bonus > 0:\n",
    "            self.__bonus = new_bonus\n",
    "\n",
    "    def get_bonus(self):\n",
    "        return self.__bonus\n",
    "\n",
    "class Circle(Shape):\n",
    "    def __init__(self, radius):\n",
    "        self.radius = radius\n",
    "\n",
    "    def area(self):\n",
    "        return 3.14 * self.radius * self.radius\n",
    "\n",
    "class Rectangle(Shape):\n",
    "    def __init__(self, length, width):\n",
    "        self.length = length\n",
    "        self.width = width\n",
    "\n",
    "    def area(self):\n",
    "        return self.length * self.width\n",
    "\n",
    "def print_area(shape):\n",
    "    print(f\"Area: {shape.area()}\")\n",
    "\n",
    "# shape = Shape()\n",
    "\n",
    "employee = Employee(\"John\", 50000)\n",
    "manager = Manager(\"Alice\", 80000, 10000)\n",
    "\n",
    "print(f\"{employee.get_name()}'s salary: {employee.get_salary()}\")\n",
    "employee.set_salary(60000)\n",
    "print(f\"Updated salary: {employee.get_salary()}\")\n",
    "\n",
    "print(f\"{manager.get_name()}'s salary: {manager.get_salary()}, bonus: {manager.get_bonus()}\")\n",
    "manager.set_bonus(12000)\n",
    "print(f\"Updated bonus: {manager.get_bonus()}\")\n",
    "\n",
    "circle = Circle(5)\n",
    "rectangle = Rectangle(4, 6)\n",
    "\n",
    "print_area(circle)\n",
    "print_area(rectangle)\n",
    "\n",
    "shapes = [Circle(3), Rectangle(4, 5), Circle(2.5), Rectangle(3, 7)]\n",
    "\n",
    "for shape in shapes:\n",
    "    print_area(shape)"
   ]
  },
  {
   "cell_type": "markdown",
   "metadata": {
    "id": "cM8BsUday6n2"
   },
   "source": [
    "Your answer goes here:"
   ]
  }
 ],
 "metadata": {
  "colab": {
   "provenance": []
  },
  "kernelspec": {
   "display_name": "Python 3 (ipykernel)",
   "language": "python",
   "name": "python3"
  },
  "language_info": {
   "codemirror_mode": {
    "name": "ipython",
    "version": 3
   },
   "file_extension": ".py",
   "mimetype": "text/x-python",
   "name": "python",
   "nbconvert_exporter": "python",
   "pygments_lexer": "ipython3",
   "version": "3.10.12"
  }
 },
 "nbformat": 4,
 "nbformat_minor": 4
}
